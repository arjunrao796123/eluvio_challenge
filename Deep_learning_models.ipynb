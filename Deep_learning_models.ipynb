{
 "cells": [
  {
   "cell_type": "code",
   "execution_count": 24,
   "metadata": {},
   "outputs": [],
   "source": [
    "import json"
   ]
  },
  {
   "cell_type": "markdown",
   "metadata": {},
   "source": [
    "Hi!\n",
    "\n",
    "Here is my attempt to solve the eluvio movie scene segmentation challenge.\n",
    "\n",
    "Given a list of 64 movies, the goal is to predict the scene transition boundary between every two shot of a movie\n",
    "\n",
    "I approached the problem in 2 ways\n",
    "\n",
    "1. I tried to replicate the codebase provided by the original authors by converting the gvien data into the same format.\n",
    "However this led to a memory allocation error and I could not proceed with the method thereafter.\n",
    "\n",
    "2. With the given data, I tried to combine all the features such that I will be able to apply machine learning and deep learning models.\n",
    "\n",
    "\n",
    "I will be going through both these methods in the notebook\n",
    "\n",
    "I am using 37 movies for training and 27 movies for testing"
   ]
  },
  {
   "cell_type": "code",
   "execution_count": null,
   "metadata": {},
   "outputs": [],
   "source": []
  },
  {
   "cell_type": "markdown",
   "metadata": {},
   "source": [
    "Let us look at the data first"
   ]
  },
  {
   "cell_type": "code",
   "execution_count": null,
   "metadata": {},
   "outputs": [],
   "source": []
  },
  {
   "cell_type": "code",
   "execution_count": 7,
   "metadata": {},
   "outputs": [],
   "source": [
    "with open('data/tt0052357.pkl', 'rb') as f:\n",
    "        data = pickle.load(f)"
   ]
  },
  {
   "cell_type": "markdown",
   "metadata": {},
   "source": [
    "This is what the given data looks like:\n",
    "\n",
    "We have:\n",
    "1. place feature, representing the features of images in the shot \n",
    "2. cast feature, data of people present in the shot with object detection models such as faster RCNN\n",
    "3. action feature, representing the action going with temporal convolutional networks \n",
    "4. audio feature. the audio of the shot and scene\n",
    "5. scene_transition_boundary_ground_truth, ground truth\n",
    "6. shot_end_frame, representing the boundary\n",
    "7. scene_transition_boundary_prediction, given predictions\n",
    "8. imdb_id, movie id"
   ]
  },
  {
   "cell_type": "code",
   "execution_count": 8,
   "metadata": {},
   "outputs": [
    {
     "data": {
      "text/plain": [
       "{'place': tensor([[6.1556e-02, 1.0177e-01, 5.2085e-02,  ..., 6.7148e-02, 1.5965e-03,\n",
       "          9.5967e-03],\n",
       "         [5.2110e-02, 1.3152e-01, 4.7641e-02,  ..., 7.6565e-02, 1.4197e-03,\n",
       "          1.1087e-02],\n",
       "         [8.7748e-02, 2.4885e+00, 5.4332e-02,  ..., 7.1745e-01, 8.1299e-01,\n",
       "          3.3096e-01],\n",
       "         ...,\n",
       "         [1.2349e-01, 4.4957e-01, 2.4556e-01,  ..., 1.0015e-02, 1.1907e-01,\n",
       "          5.1556e-03],\n",
       "         [1.9621e-02, 7.2868e-01, 2.4324e-01,  ..., 7.4836e-03, 3.7045e-02,\n",
       "          7.4661e-02],\n",
       "         [1.2028e-01, 2.9355e-01, 7.4574e-02,  ..., 4.0226e-02, 7.1149e-02,\n",
       "          1.5697e-01]]),\n",
       " 'cast': tensor([[ 0.0000,  0.0000,  0.0000,  ...,  0.0000,  0.0000,  0.0000],\n",
       "         [ 0.0000,  0.0000,  0.0000,  ...,  0.0000,  0.0000,  0.0000],\n",
       "         [ 0.0000,  0.0000,  0.0000,  ..., -0.0073,  0.1230, -0.0396],\n",
       "         ...,\n",
       "         [ 0.0000,  0.0000,  0.0000,  ..., -0.0309,  0.1172, -0.0647],\n",
       "         [ 0.0000,  0.0000,  0.0000,  ..., -0.0290,  0.0804,  0.0003],\n",
       "         [ 0.0000,  0.0000,  0.0000,  ...,  0.0000,  0.0000,  0.0000]]),\n",
       " 'action': tensor([[0.0000, 0.0000, 0.0000,  ..., 0.0000, 0.0000, 0.0000],\n",
       "         [0.0000, 0.0000, 0.0000,  ..., 0.0000, 0.0000, 0.0000],\n",
       "         [0.0000, 5.5101, 0.0000,  ..., 0.0000, 0.0132, 3.0242],\n",
       "         ...,\n",
       "         [0.0000, 5.7000, 0.0000,  ..., 0.0000, 0.0000, 0.1954],\n",
       "         [0.0000, 4.5412, 0.0000,  ..., 0.0000, 0.1389, 1.3127],\n",
       "         [0.0000, 0.0000, 0.0000,  ..., 0.0000, 0.0000, 0.0000]]),\n",
       " 'audio': tensor([[-0.0993, -0.0711, -0.0708,  ..., -0.0829, -0.0911, -0.1051],\n",
       "         [-0.0943, -0.0590, -0.0602,  ..., -0.0682, -0.0753, -0.0831],\n",
       "         [-0.0442, -0.0324, -0.0318,  ..., -0.0332, -0.0386, -0.0454],\n",
       "         ...,\n",
       "         [ 0.0216, -0.0060, -0.0127,  ..., -0.0135, -0.0496, -0.0513],\n",
       "         [-0.0800, -0.0120, -0.0191,  ..., -0.0272, -0.0592, -0.0654],\n",
       "         [-0.1281, -0.0604, -0.0645,  ..., -0.0776, -0.0705, -0.0774]]),\n",
       " 'scene_transition_boundary_ground_truth': tensor([False, False, False,  ..., False, False,  True]),\n",
       " 'shot_end_frame': tensor([    45,   1149,   1437,  ..., 183782, 184354, 184794],\n",
       "        dtype=torch.int32),\n",
       " 'scene_transition_boundary_prediction': tensor([0.0000, 0.0000, 0.4878,  ..., 0.0000, 0.0000, 0.0000],\n",
       "        dtype=torch.float16),\n",
       " 'imdb_id': 'tt0052357'}"
      ]
     },
     "execution_count": 8,
     "metadata": {},
     "output_type": "execute_result"
    }
   ],
   "source": [
    "data"
   ]
  },
  {
   "cell_type": "markdown",
   "metadata": {},
   "source": [
    "# Here we represent the baseline provided to us"
   ]
  },
  {
   "cell_type": "code",
   "execution_count": 30,
   "metadata": {},
   "outputs": [],
   "source": [
    "for i in os.listdir('data2'):\n",
    "    with open('data2/'+str(i), 'rb') as f:\n",
    "        data = pickle.load(f)\n",
    "        fav = {'scene_transition_boundary_ground_truth': data['scene_transition_boundary_ground_truth'], 'scene_transition_boundary_prediction': data['scene_transition_boundary_prediction'],\n",
    "                        'shot_end_frame': data['shot_end_frame'], 'imdb_id': data['imdb_id']}\n",
    "        pickle.dump(fav, open('data_dir2/'+str(data['imdb_id'])+'.pkl', \"wb\"))"
   ]
  },
  {
   "cell_type": "code",
   "execution_count": 31,
   "metadata": {
    "scrolled": true
   },
   "outputs": [
    {
     "name": "stdout",
     "output_type": "stream",
     "text": [
      "# of IMDB IDs: 27\n",
      "Scores: {\n",
      "    \"AP\": 0.4615802116187682,\n",
      "    \"mAP\": 0.48199051394228226,\n",
      "    \"Miou\": 0.46508357436009745,\n",
      "    \"Precision\": 0.2929881877369351,\n",
      "    \"Recall\": 0.7506495769377108,\n",
      "    \"F1\": 0.4117560720605304\n",
      "}\n"
     ]
    }
   ],
   "source": [
    "!python evaluate_sceneseg.py data_dir2/"
   ]
  },
  {
   "cell_type": "code",
   "execution_count": null,
   "metadata": {},
   "outputs": [],
   "source": []
  },
  {
   "cell_type": "markdown",
   "metadata": {},
   "source": [
    "# The first approach where I convert the data into the format of the authors"
   ]
  },
  {
   "cell_type": "markdown",
   "metadata": {},
   "source": [
    "Getting a list of all the movies from the json file available at' https://drive.google.com/drive/folders/1F-uqCKnhtSdQKcDUiL3dRcLOrAxHargz' \n",
    "I did this so that I could retrieve the json in the exact format need for the model."
   ]
  },
  {
   "cell_type": "code",
   "execution_count": null,
   "metadata": {},
   "outputs": [],
   "source": [
    "import json\n",
    "import torch.optim as optim\n",
    "import torch.nn.functional as F\n",
    "import matplotlib.pyplot as plt\n",
    "\n",
    "from sklearn.ensemble import RandomForestClassifier\n",
    "from sklearn.svm import LinearSVC\n",
    "import os\n",
    "import torch"
   ]
  },
  {
   "cell_type": "code",
   "execution_count": 26,
   "metadata": {},
   "outputs": [],
   "source": [
    "#Reading the json file and storing all the keys present. These keys are the imdb_ids\n",
    "with open('/home/arjun/eluvio/SceneSeg/data/scene318/meta/scene_movie318.json') as f:\n",
    "    rem = json.load(f)\n"
   ]
  },
  {
   "cell_type": "code",
   "execution_count": 49,
   "metadata": {},
   "outputs": [],
   "source": [
    "json_new={}"
   ]
  },
  {
   "cell_type": "code",
   "execution_count": null,
   "metadata": {},
   "outputs": [],
   "source": []
  },
  {
   "cell_type": "code",
   "execution_count": 42,
   "metadata": {},
   "outputs": [],
   "source": [
    "#Collecting the imdb id that we have in our data\n",
    "arr_names=[]\n",
    "for i in os.listdir('/home/arjun/Downloads/data'):\n",
    "    arr_names.append(i[:-4])"
   ]
  },
  {
   "cell_type": "code",
   "execution_count": 57,
   "metadata": {
    "scrolled": true
   },
   "outputs": [
    {
     "data": {
      "text/plain": [
       "torch.Size([1101, 512])"
      ]
     },
     "execution_count": 57,
     "metadata": {},
     "output_type": "execute_result"
    }
   ],
   "source": [
    "data['cast']"
   ]
  },
  {
   "cell_type": "code",
   "execution_count": 55,
   "metadata": {},
   "outputs": [
    {
     "data": {
      "text/plain": [
       "['tt0107290',\n",
       " 'tt0110604',\n",
       " 'tt0052357',\n",
       " 'tt0114746',\n",
       " 'tt0945513',\n",
       " 'tt0178868',\n",
       " 'tt0976051',\n",
       " 'tt0117060',\n",
       " 'tt1001508',\n",
       " 'tt0379786',\n",
       " 'tt2488496',\n",
       " 'tt0822832',\n",
       " 'tt0092099',\n",
       " 'tt0440963',\n",
       " 'tt1099212',\n",
       " 'tt0086190',\n",
       " 'tt0163025',\n",
       " 'tt2024544',\n",
       " 'tt0217505',\n",
       " 'tt0123755',\n",
       " 'tt0172495',\n",
       " 'tt0113277',\n",
       " 'tt0088247',\n",
       " 'tt0115759',\n",
       " 'tt1119646',\n",
       " 'tt0137523',\n",
       " 'tt0479884',\n",
       " 'tt0361748',\n",
       " 'tt0118715',\n",
       " 'tt0253474',\n",
       " 'tt1375666',\n",
       " 'tt1205489',\n",
       " 'tt0124315',\n",
       " 'tt0063442',\n",
       " 'tt0088944',\n",
       " 'tt0096320',\n",
       " 'tt0119488',\n",
       " 'tt0108399',\n",
       " 'tt0078788',\n",
       " 'tt1707386',\n",
       " 'tt0103855',\n",
       " 'tt0100405',\n",
       " 'tt0082089',\n",
       " 'tt0120689',\n",
       " 'tt0319061',\n",
       " 'tt0068646',\n",
       " 'tt0073195',\n",
       " 'tt0103776',\n",
       " 'tt0099423',\n",
       " 'tt0443272',\n",
       " 'tt1038919',\n",
       " 'tt0409459',\n",
       " 'tt0116922',\n",
       " 'tt2582846',\n",
       " 'tt0112573',\n",
       " 'tt0190332',\n",
       " 'tt0075314',\n",
       " 'tt0120890',\n",
       " 'tt0281358',\n",
       " 'tt1412386',\n",
       " 'tt0399201',\n",
       " 'tt0120382',\n",
       " 'tt0116282',\n",
       " 'tt0780571']"
      ]
     },
     "execution_count": 55,
     "metadata": {},
     "output_type": "execute_result"
    }
   ],
   "source": [
    "arr_names #The list we were provided"
   ]
  },
  {
   "cell_type": "code",
   "execution_count": null,
   "metadata": {},
   "outputs": [],
   "source": []
  },
  {
   "cell_type": "code",
   "execution_count": 54,
   "metadata": {
    "scrolled": true
   },
   "outputs": [
    {
     "data": {
      "text/plain": [
       "'tt0107290'"
      ]
     },
     "execution_count": 54,
     "metadata": {},
     "output_type": "execute_result"
    }
   ],
   "source": [
    "import os\n",
    "os.listdir('/home/arjun/Downloads/data')[0][:-4]"
   ]
  },
  {
   "cell_type": "code",
   "execution_count": 32,
   "metadata": {},
   "outputs": [],
   "source": [
    "#Taking only those keys in our data and saving in a json file. This is the shots per scene and start frame and end frame of the scene"
   ]
  },
  {
   "cell_type": "code",
   "execution_count": 50,
   "metadata": {},
   "outputs": [],
   "source": [
    "for i in rem.keys():\n",
    "    if i in arr_names:\n",
    "        json_new[i] = rem[i]\n",
    "    "
   ]
  },
  {
   "cell_type": "code",
   "execution_count": 52,
   "metadata": {},
   "outputs": [],
   "source": [
    "import json\n",
    "with open('json_new.json', 'w') as f:\n",
    "    json.dump(json_new, f)"
   ]
  },
  {
   "cell_type": "markdown",
   "metadata": {},
   "source": [
    "To use the codebase provided by 'https://anyirao.com/projects/SceneSeg.html'\n",
    "I first convert the data provided in the challenge to match the format needed by the model\n",
    "\n",
    "For action features:\n",
    "    We require a pickle file where each shot is a key and the value is a array representing the action in the shot\n",
    "We have 64 pickle files each representing shots in the movie\n",
    "\n"
   ]
  },
  {
   "cell_type": "code",
   "execution_count": 34,
   "metadata": {},
   "outputs": [],
   "source": [
    "#It will look something like this\n",
    "\n",
    "#{  '0000': []   ,  '0001':[]   }"
   ]
  },
  {
   "cell_type": "code",
   "execution_count": 111,
   "metadata": {},
   "outputs": [],
   "source": [
    "for i in os.listdir('/home/arjun/Downloads/data'):\n",
    "    with open('/home/arjun/Downloads/data/'+i, 'rb') as f:\n",
    "        data = pickle.load(f)\n",
    "    \n",
    "\n",
    "    x = data['action'].detach().cpu().numpy()\n",
    "    dict_store = {}\n",
    "    count=0\n",
    "    for j in x:\n",
    "        dict_store[str(count).zfill(4)] = j\n",
    "        count+=1\n",
    "    output = open('/home/arjun/eluvio/SceneSeg/data/scene318/act_feat/'+str(i[:-4])+'.pkl', 'wb')\n",
    "    pickle.dump(dict_store, output)\n",
    "    output.close()"
   ]
  },
  {
   "cell_type": "markdown",
   "metadata": {},
   "source": [
    "For label features: I pciked up the labels from 'https://drive.google.com/open?id=1F-uqCKnhtSdQKcDUiL3dRcLOrAxHargz' which is a part of the codebase.\n",
    "I picked up those files which are present in the training data given to us.\n",
    "We have 64 labels, 1 for each movie"
   ]
  },
  {
   "cell_type": "code",
   "execution_count": 96,
   "metadata": {},
   "outputs": [],
   "source": [
    "import shutil, os\n",
    "for i in os.listdir('/home/arjun/Downloads/data'):\n",
    "    if i[:-4] in arr_names:\n",
    "        shutil.copy('/home/arjun/eluvio/SceneSeg/data/scene318/shot_movie318/'+str(i[:-4])+'.txt', '/home/arjun/eluvio/SceneSeg/data/scene318/shot_movie318_2/')\n",
    "    "
   ]
  },
  {
   "cell_type": "markdown",
   "metadata": {},
   "source": [
    "I repeated the same for the shot_id. We now have the shot for each movie"
   ]
  },
  {
   "cell_type": "code",
   "execution_count": 94,
   "metadata": {},
   "outputs": [],
   "source": [
    "import shutil, os\n",
    "for i in os.listdir('/home/arjun/Downloads/data'):\n",
    "    if i[:-4] in arr_names:\n",
    "        shutil.copy('/home/arjun/eluvio/SceneSeg/data/scene318/label318/'+str(i[:-4])+'.txt', '/home/arjun/eluvio/SceneSeg/data/scene318/labels/')\n",
    "    "
   ]
  },
  {
   "cell_type": "markdown",
   "metadata": {},
   "source": [
    "For the cast features:\n",
    "    We require the cast of each movie to be stored in pickle files\n",
    "       Hence 64 pickle files"
   ]
  },
  {
   "cell_type": "code",
   "execution_count": 128,
   "metadata": {},
   "outputs": [],
   "source": [
    "for i in os.listdir('/home/arjun/Downloads/data'):\n",
    "    with open('/home/arjun/Downloads/data/'+i, 'rb') as f:\n",
    "        data = pickle.load(f)\n",
    "    \n",
    "\n",
    "    x = data['cast'].detach().cpu().numpy()\n",
    "    dict_store = {}\n",
    "    for j in x:\n",
    "        dict_store[str(count).zfill(4)] = j\n",
    "        count+=1\n",
    "    output = open('/home/arjun/eluvio/SceneSeg/data/scene318/cast_feat/'+str(i[:-4])+'.pkl', 'wb')\n",
    "    pickle.dump(dict_store, output)\n",
    "    output.close()"
   ]
  },
  {
   "cell_type": "markdown",
   "metadata": {},
   "source": [
    "Places and audio have the same format \n",
    "We have a folder for each movie and we save a numpy file for each shot of the movie"
   ]
  },
  {
   "cell_type": "code",
   "execution_count": 74,
   "metadata": {
    "scrolled": true
   },
   "outputs": [],
   "source": [
    "for i in os.listdir('/home/arjun/Downloads/data'):\n",
    "    count=0\n",
    "    with open('/home/arjun/Downloads/data/'+i, 'rb') as f:\n",
    "        data = pickle.load(f)\n",
    "    for j in data['place']:\n",
    "        x = (j.detach().cpu().numpy())\n",
    "        try:\n",
    "            os.mkdir('/home/arjun/eluvio/SceneSeg/data/scene318/place_feat_att/'+str(i[:-4]))\n",
    "            \n",
    "            with open('/home/arjun/eluvio/SceneSeg/data/scene318/place_feat_att/'+str(i[:-4])+ '/shot_'+str(count).zfill(4)+'.npy', 'wb') as g:\n",
    "                np.save(g,x)\n",
    "            count+=1\n",
    "        except:\n",
    "            with open('/home/arjun/eluvio/SceneSeg/data/scene318/place_feat_att/'+str(i[:-4])+ '/shot_'+str(count).zfill(4)+'.npy', 'wb') as g:\n",
    "                np.save(g,x)\n",
    "            count+=1\n"
   ]
  },
  {
   "cell_type": "code",
   "execution_count": null,
   "metadata": {},
   "outputs": [],
   "source": []
  },
  {
   "cell_type": "code",
   "execution_count": null,
   "metadata": {},
   "outputs": [],
   "source": [
    "for i in os.listdir('/home/arjun/Downloads/data'):\n",
    "    count=0\n",
    "    with open('/home/arjun/Downloads/data/'+i, 'rb') as f:\n",
    "        data = pickle.load(f)\n",
    "    for j in data['audio']:\n",
    "        x = j.detach().cpu().numpy()\n",
    "        try:\n",
    "            os.mkdir('/home/arjun/eluvio/SceneSeg/data/scene318/aud_feat_att/'+str(i[:-4]))\n",
    "            \n",
    "            with open('/home/arjun/eluvio/SceneSeg/data/scene318/aud_feat_att/'+str(i[:-4])+ '/shot_'+str(count).zfill(4)+'.npy', 'wb') as g:\n",
    "                np.save(g,x)\n",
    "            count+=1\n",
    "        except:\n",
    "            with open('/home/arjun/eluvio/SceneSeg/data/scene318/aud_feat_att/'+str(i[:-4])+ '/shot_'+str(count).zfill(4)+'.npy', 'wb') as g:\n",
    "                np.save(g,x)\n",
    "            count+=1\n"
   ]
  },
  {
   "cell_type": "markdown",
   "metadata": {},
   "source": [
    "# Once we do this and run the codebase with the command  'python run.py config/all.py'. Unfortunately, I encountered a CUDA memeory error. \n",
    "# I tried to sample for 2 movies instead of 64 and I received the same error.\n",
    "\n"
   ]
  },
  {
   "cell_type": "markdown",
   "metadata": {},
   "source": [
    "# I then decided that recreating with limited resources is not a viable solution and I had to try simpler models first"
   ]
  },
  {
   "cell_type": "markdown",
   "metadata": {},
   "source": [
    "# Now for the second step where I use the data in a more efficient manner"
   ]
  },
  {
   "cell_type": "code",
   "execution_count": null,
   "metadata": {},
   "outputs": [],
   "source": []
  },
  {
   "cell_type": "code",
   "execution_count": 82,
   "metadata": {},
   "outputs": [
    {
     "data": {
      "text/plain": [
       "'\\nclf = LinearSVC()\\nprint(X.shape)\\nclf.fit(X,Y)\\nprint(2)\\n'"
      ]
     },
     "execution_count": 82,
     "metadata": {},
     "output_type": "execute_result"
    }
   ],
   "source": [
    "import pickle\n",
    "import torch\n",
    "import numpy as np\n",
    "import sklearn\n",
    "import os\n",
    "from sklearn import preprocessing\n",
    "\n",
    "import tensorflow as tf\n",
    "import matplotlib.pyplot as plt\n",
    "from focal_loss import BinaryFocalLoss\n",
    "\n",
    "# get all files in the folder\n",
    "def feature(directory,test=False,clf=None):\n",
    "    '''\n",
    "    In this function we first extract all the features: places,audio, action, cast.\n",
    "    The next step is to stack these features in a horizontal manner\n",
    "    Once that is done we stack every 2 features since we need to predict the transition \n",
    "    This leads to same size for ground truth and the labels\n",
    "    '''\n",
    "    files = os.listdir(directory)\n",
    "    total_files = len(files)  # Calculate total number of files\n",
    "\n",
    "    j = 0\n",
    "    for i in range(total_files):\n",
    "        filename = directory + '/' + files[i]\n",
    "        with open(filename, 'rb') as f:\n",
    "            data = pickle.load(f)\n",
    "        \n",
    "        feat1 = data['place']\n",
    "        feat1 = feat1.data.numpy()  # convert tensors into numpy arrays for sklearn\n",
    "        feat1_size = feat1.shape[1]\n",
    "\n",
    "        feat2 = data['cast']\n",
    "        feat2 = feat2.data.numpy()\n",
    "        feat2_size = feat2.shape[1]\n",
    "\n",
    "        feat3 = data['action']\n",
    "        feat3 = feat3.data.numpy()\n",
    "        feat3_size = feat3.shape[1]\n",
    "\n",
    "        feat4 = data['audio']\n",
    "        feat4 = feat4.data.numpy()\n",
    "        feat4_size = feat4.shape[1]\n",
    "\n",
    "        x = np.hstack((feat1, feat2, feat3, feat4))\n",
    "        y = data['scene_transition_boundary_ground_truth']\n",
    "\n",
    "        scaler = preprocessing.StandardScaler().fit(x)\n",
    "        x_scaled = scaler.transform(x)\n",
    "\n",
    "        # Fold the data set to obtain features from adjoining shots\n",
    "        #The shape is 512*3 + 2048 = 3584. \n",
    "        N = x.shape[0]  \n",
    "        x_fold = np.zeros((N - 1, 2 * x.shape[1]))  # increasing by 2*x since we need to hstack again\n",
    "        #Upon folding shape is 3584* = 7168. This is for the 2nd dimension. Shape of 1st dimension depends on number of movies\n",
    "        for l in range(N - 1):\n",
    "            x_fold[l, :] = np.hstack((x_scaled[l, :], x_scaled[l + 1, :]))  # combining every 2 shots\n",
    "        if test is True:\n",
    "                predicted = model(torch.tensor(x_fold, dtype=torch.float32))\n",
    "                print(x_fold.shape, 'Test')\n",
    "                fav = {'scene_transition_boundary_ground_truth': y, 'scene_transition_boundary_prediction': predicted.detach().numpy(),\n",
    "                        'shot_end_frame': data['shot_end_frame'], 'imdb_id': data['imdb_id']}\n",
    "                pickle.dump(fav, open('data_dir/'+str(data['imdb_id'])+'.pkl', \"wb\"))\n",
    "                \n",
    "        else:\n",
    "            if (j == 0):\n",
    "                X = x_fold\n",
    "                Y = y\n",
    "            else:\n",
    "                X = np.concatenate((X, x_fold), axis=0)\n",
    "                Y = np.concatenate((Y, y),axis=0)\n",
    "\n",
    "            j = j + 1\n",
    "    if test is False:\n",
    "        return X,Y\n",
    "\n",
    "directory = 'data'\n",
    "X,Y = feature(directory)\n",
    "\n"
   ]
  },
  {
   "cell_type": "markdown",
   "metadata": {},
   "source": [
    "# Start with a simple neural network"
   ]
  },
  {
   "cell_type": "code",
   "execution_count": 233,
   "metadata": {},
   "outputs": [],
   "source": [
    "from torch.utils.data import Dataset, DataLoader\n",
    "class dataset(Dataset):\n",
    "    ''\n",
    "\n",
    "    def __init__(self, x, y):\n",
    "        self.x = torch.tensor(x, dtype=torch.float32)\n",
    "        self.y = torch.tensor(y, dtype=torch.float32)\n",
    "        self.length = self.x.shape[0]\n",
    "\n",
    "\n",
    "    def __getitem__(self, idx):\n",
    "        return self.x[idx], self.y[idx]\n",
    "\n",
    "    def __len__(self):\n",
    "        return self.length\n",
    "\n",
    "trainset = dataset(X, Y)  # DataLoader\n",
    "\n"
   ]
  },
  {
   "cell_type": "code",
   "execution_count": 244,
   "metadata": {},
   "outputs": [],
   "source": [
    "\n",
    "trainloader = DataLoader(trainset, batch_size=64, shuffle=False)\n",
    "import torch.nn as nn\n",
    "\n",
    "from torch import nn\n",
    "from torch.nn import functional as F\n",
    "\n",
    "class Net(nn.Module):\n",
    "    '''\n",
    "    A simple linear network\n",
    "    '''\n",
    "    def __init__(self,input_shape):\n",
    "        super(Net,self).__init__()\n",
    "        self.fc1 = nn.Linear(input_shape,64)\n",
    "        self.b1 = nn.BatchNorm1d(64)\n",
    "        self.fc2 = nn.Linear(64,32)\n",
    "        self.b2 = nn.BatchNorm1d(32)\n",
    "        self.fc3 = nn.Linear(32,1)\n",
    "    def forward(self,x):\n",
    "        x = torch.relu(self.fc1(x))\n",
    "        x = self.b1(x)\n",
    "        x = torch.relu(self.fc2(x))\n",
    "        x = self.b2(x)\n",
    "        x = torch.sigmoid(self.fc3(x))\n",
    "        return x\n",
    "\n",
    "#hyper parameters\n",
    "learning_rate = 0.01\n",
    "epochs = 50\n",
    "# Model , Optimizer, Loss\n",
    "model = Net(input_shape=X.shape[1])\n",
    "optimizer = torch.optim.SGD(model.parameters(),lr=learning_rate)\n",
    "loss_fn = nn.BCELoss()\n",
    "\n",
    "losses = []\n",
    "accur = []\n"
   ]
  },
  {
   "cell_type": "code",
   "execution_count": 245,
   "metadata": {},
   "outputs": [
    {
     "name": "stdout",
     "output_type": "stream",
     "text": [
      "epoch 0\tloss : 0.20708124339580536\n",
      "epoch 2\tloss : 0.1191529706120491\n",
      "epoch 4\tloss : 0.05605647340416908\n",
      "epoch 6\tloss : 0.02156488411128521\n",
      "epoch 8\tloss : 0.01382701937109232\n",
      "epoch 10\tloss : 0.007840287871658802\n",
      "epoch 12\tloss : 0.004932770039886236\n",
      "epoch 14\tloss : 0.0026233962271362543\n",
      "epoch 16\tloss : 0.0019705926533788443\n",
      "epoch 18\tloss : 0.0014836674090474844\n",
      "epoch 20\tloss : 0.0010893383296206594\n",
      "epoch 22\tloss : 0.0009672963060438633\n",
      "epoch 24\tloss : 0.0008987343171611428\n",
      "epoch 26\tloss : 0.0007681747083552182\n",
      "epoch 28\tloss : 0.0007364962948486209\n",
      "epoch 30\tloss : 0.0006202621734701097\n",
      "epoch 32\tloss : 0.0006228536949492991\n",
      "epoch 34\tloss : 0.0005413030739873648\n",
      "epoch 36\tloss : 0.0004977845237590373\n",
      "epoch 38\tloss : 0.00045849519665353\n",
      "epoch 40\tloss : 0.00045264113578014076\n",
      "epoch 42\tloss : 0.0004228444304317236\n",
      "epoch 44\tloss : 0.0003862351586576551\n",
      "epoch 46\tloss : 0.0004019600455649197\n",
      "epoch 48\tloss : 0.00036098083364777267\n"
     ]
    }
   ],
   "source": [
    "for i in range(epochs):\n",
    "    for j, (x_train, y_train) in enumerate(trainloader):\n",
    "        # calculate output\n",
    "        output = model(x_train)\n",
    "\n",
    "        # calculate loss\n",
    "        loss = loss_fn(output, y_train.reshape(-1, 1))\n",
    "\n",
    "\n",
    "        # backprop\n",
    "        optimizer.zero_grad()\n",
    "        loss.backward()\n",
    "        optimizer.step()\n",
    "    if i % 2 == 0:\n",
    "        losses.append(loss)\n",
    "        print(\"epoch {}\\tloss : {}\".format(i, loss))\n"
   ]
  },
  {
   "cell_type": "code",
   "execution_count": 248,
   "metadata": {},
   "outputs": [
    {
     "data": {
      "image/png": "[encoded data removed]",
      "text/plain": [
       "<Figure size 432x288 with 1 Axes>"
      ]
     },
     "metadata": {
      "needs_background": "light"
     },
     "output_type": "display_data"
    }
   ],
   "source": [
    "import numpy as np\n",
    "import matplotlib.pyplot as plt\n",
    "\n",
    "\n",
    "plt.plot(losses) # plotting by columns\n",
    "plt.show()"
   ]
  },
  {
   "cell_type": "code",
   "execution_count": null,
   "metadata": {},
   "outputs": [],
   "source": []
  },
  {
   "cell_type": "code",
   "execution_count": 250,
   "metadata": {},
   "outputs": [],
   "source": [
    "from pyts.image import GramianAngularField"
   ]
  },
  {
   "cell_type": "code",
   "execution_count": 251,
   "metadata": {},
   "outputs": [],
   "source": [
    "transformer = GramianAngularField()"
   ]
  },
  {
   "cell_type": "code",
   "execution_count": null,
   "metadata": {},
   "outputs": [],
   "source": [
    "X_new = transformer.transform(X)"
   ]
  },
  {
   "cell_type": "code",
   "execution_count": null,
   "metadata": {},
   "outputs": [],
   "source": [
    "X_new.shape"
   ]
  },
  {
   "cell_type": "code",
   "execution_count": 246,
   "metadata": {},
   "outputs": [
    {
     "name": "stdout",
     "output_type": "stream",
     "text": [
      "(1645, 7168) Test\n",
      "(1804, 7168) Test\n",
      "(1211, 7168) Test\n",
      "(1188, 7168) Test\n",
      "(1837, 7168) Test\n",
      "(1447, 7168) Test\n",
      "(2134, 7168) Test\n",
      "(2710, 7168) Test\n",
      "(2765, 7168) Test\n",
      "(2760, 7168) Test\n",
      "(918, 7168) Test\n",
      "(1827, 7168) Test\n",
      "(1364, 7168) Test\n",
      "(1549, 7168) Test\n",
      "(1442, 7168) Test\n",
      "(1287, 7168) Test\n",
      "(1194, 7168) Test\n",
      "(2012, 7168) Test\n",
      "(1763, 7168) Test\n",
      "(1805, 7168) Test\n",
      "(1380, 7168) Test\n",
      "(2609, 7168) Test\n",
      "(1487, 7168) Test\n",
      "(2548, 7168) Test\n",
      "(727, 7168) Test\n",
      "(2395, 7168) Test\n",
      "(1873, 7168) Test\n"
     ]
    }
   ],
   "source": [
    "feature('data2/',True,model)"
   ]
  },
  {
   "cell_type": "markdown",
   "metadata": {},
   "source": [
    "Upon running the model with "
   ]
  },
  {
   "cell_type": "code",
   "execution_count": 247,
   "metadata": {},
   "outputs": [
    {
     "name": "stdout",
     "output_type": "stream",
     "text": [
      "# of IMDB IDs: 27\n",
      "Scores: {\n",
      "    \"AP\": 0.21574664494479046,\n",
      "    \"mAP\": 0.2331933218420753,\n",
      "    \"Miou\": 0.3836303020554841,\n",
      "    \"Precision\": 142.22222222222223,\n",
      "    \"Recall\": 78.51851851851852,\n",
      "    \"F1\": 99.19740677212857\n",
      "}\n"
     ]
    }
   ],
   "source": [
    "# for standard scaler \n",
    "!python evaluate_sceneseg.py data_dir/"
   ]
  },
  {
   "cell_type": "code",
   "execution_count": 87,
   "metadata": {},
   "outputs": [
    {
     "name": "stdout",
     "output_type": "stream",
     "text": [
      "# of IMDB IDs: 27\n",
      "Scores: {\n",
      "    \"AP\": 0.2452689693226328,\n",
      "    \"mAP\": 0.26102519658286005,\n",
      "    \"Miou\": 0.38804374907272776,\n",
      "    \"Precision\": 142.22222222222223,\n",
      "    \"Recall\": 73.0,\n",
      "    \"F1\": 94.54120948486168\n",
      "}\n"
     ]
    }
   ],
   "source": [
    "# for standard scaler \n",
    "!python evaluate_sceneseg.py data_dir/"
   ]
  },
  {
   "cell_type": "code",
   "execution_count": 60,
   "metadata": {},
   "outputs": [
    {
     "name": "stdout",
     "output_type": "stream",
     "text": [
      "# of IMDB IDs: 27\n",
      "Scores: {\n",
      "    \"AP\": 0.277382974194029,\n",
      "    \"mAP\": 0.2955761839920259,\n",
      "    \"Miou\": 0.346955531988229,\n",
      "    \"Precision\": 142.22222222222223,\n",
      "    \"Recall\": 31.40740740740741,\n",
      "    \"F1\": 48.64512523899404\n",
      "}\n"
     ]
    }
   ],
   "source": [
    "# for minmax scaler\n",
    "!python evaluate_sceneseg.py data_dir/"
   ]
  },
  {
   "cell_type": "code",
   "execution_count": 225,
   "metadata": {},
   "outputs": [
    {
     "data": {
      "text/plain": [
       "(7168,)"
      ]
     },
     "execution_count": 225,
     "metadata": {},
     "output_type": "execute_result"
    }
   ],
   "source": []
  },
  {
   "cell_type": "code",
   "execution_count": 163,
   "metadata": {},
   "outputs": [
    {
     "data": {
      "text/plain": [
       "(58296,)"
      ]
     },
     "execution_count": 163,
     "metadata": {},
     "output_type": "execute_result"
    }
   ],
   "source": [
    "Y.shape\n"
   ]
  },
  {
   "cell_type": "code",
   "execution_count": 159,
   "metadata": {},
   "outputs": [],
   "source": [
    "embedding_dim, hidden_dim, vocab_size, label_size, batch_size = 32,64,37,len(Y),32"
   ]
  },
  {
   "cell_type": "code",
   "execution_count": null,
   "metadata": {},
   "outputs": [],
   "source": []
  },
  {
   "cell_type": "code",
   "execution_count": null,
   "metadata": {},
   "outputs": [],
   "source": []
  },
  {
   "cell_type": "code",
   "execution_count": null,
   "metadata": {},
   "outputs": [],
   "source": []
  },
  {
   "cell_type": "code",
   "execution_count": 181,
   "metadata": {},
   "outputs": [],
   "source": []
  }
 ],
 "metadata": {
  "kernelspec": {
   "display_name": "Python 3",
   "language": "python",
   "name": "python3"
  },
  "language_info": {
   "codemirror_mode": {
    "name": "ipython",
    "version": 3
   },
   "file_extension": ".py",
   "mimetype": "text/x-python",
   "name": "python",
   "nbconvert_exporter": "python",
   "pygments_lexer": "ipython3",
   "version": "3.8.3"
  }
 },
 "nbformat": 4,
 "nbformat_minor": 4
}
